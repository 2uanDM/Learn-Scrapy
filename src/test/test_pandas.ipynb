{
 "cells": [
  {
   "cell_type": "code",
   "execution_count": 12,
   "metadata": {},
   "outputs": [],
   "source": [
    "import pandas as pd"
   ]
  },
  {
   "cell_type": "code",
   "execution_count": 13,
   "metadata": {},
   "outputs": [],
   "source": [
    "file_dir = r'C:\\Users\\Thinkbook 14 G3 ACL\\Documents\\GitHub\\Kaxim-Stocks-Topic-2\\Ty gia VCB_05102023.xlsx'"
   ]
  },
  {
   "cell_type": "code",
   "execution_count": 14,
   "metadata": {},
   "outputs": [
    {
     "name": "stderr",
     "output_type": "stream",
     "text": [
      "c:\\Users\\Thinkbook 14 G3 ACL\\Documents\\GitHub\\Kaxim-Stocks-Topic-2\\.venv\\Lib\\site-packages\\openpyxl\\styles\\stylesheet.py:226: UserWarning: Workbook contains no default style, apply openpyxl's default\n",
      "  warn(\"Workbook contains no default style, apply openpyxl's default\")\n"
     ]
    }
   ],
   "source": [
    "df = pd.read_excel(file_dir, engine='openpyxl')"
   ]
  },
  {
   "cell_type": "code",
   "execution_count": 15,
   "metadata": {},
   "outputs": [
    {
     "data": {
      "text/html": [
       "<div>\n",
       "<style scoped>\n",
       "    .dataframe tbody tr th:only-of-type {\n",
       "        vertical-align: middle;\n",
       "    }\n",
       "\n",
       "    .dataframe tbody tr th {\n",
       "        vertical-align: top;\n",
       "    }\n",
       "\n",
       "    .dataframe thead th {\n",
       "        text-align: right;\n",
       "    }\n",
       "</style>\n",
       "<table border=\"1\" class=\"dataframe\">\n",
       "  <thead>\n",
       "    <tr style=\"text-align: right;\">\n",
       "      <th></th>\n",
       "      <th>Name</th>\n",
       "      <th>Symbol</th>\n",
       "      <th>Buy Cash</th>\n",
       "      <th>Buy Transfer</th>\n",
       "      <th>Sell</th>\n",
       "    </tr>\n",
       "  </thead>\n",
       "  <tbody>\n",
       "    <tr>\n",
       "      <th>0</th>\n",
       "      <td>US DOLLAR</td>\n",
       "      <td>USD</td>\n",
       "      <td>24190</td>\n",
       "      <td>24220.00</td>\n",
       "      <td>24560.00</td>\n",
       "    </tr>\n",
       "    <tr>\n",
       "      <th>1</th>\n",
       "      <td>EURO</td>\n",
       "      <td>EUR</td>\n",
       "      <td>25009.66</td>\n",
       "      <td>25262.28</td>\n",
       "      <td>26382.69</td>\n",
       "    </tr>\n",
       "    <tr>\n",
       "      <th>2</th>\n",
       "      <td>YUAN RENMINBI</td>\n",
       "      <td>CNY</td>\n",
       "      <td>3271.8</td>\n",
       "      <td>3304.85</td>\n",
       "      <td>3411.61</td>\n",
       "    </tr>\n",
       "  </tbody>\n",
       "</table>\n",
       "</div>"
      ],
      "text/plain": [
       "            Name Symbol  Buy Cash  Buy Transfer      Sell\n",
       "0      US DOLLAR    USD     24190      24220.00  24560.00\n",
       "1           EURO    EUR  25009.66      25262.28  26382.69\n",
       "2  YUAN RENMINBI    CNY    3271.8       3304.85   3411.61"
      ]
     },
     "execution_count": 15,
     "metadata": {},
     "output_type": "execute_result"
    }
   ],
   "source": [
    "df = df.iloc[[21,7,5]]\n",
    "# Rename columns\n",
    "df.columns = ['Name', 'Symbol', 'Buy Cash', 'Buy Transfer', 'Sell']\n",
    "\n",
    "# Reset index\n",
    "df = df.reset_index(drop=True)\n",
    "\n",
    "df"
   ]
  },
  {
   "cell_type": "code",
   "execution_count": 16,
   "metadata": {},
   "outputs": [
    {
     "name": "stdout",
     "output_type": "stream",
     "text": [
      "US DOLLAR USD 24190 24220.0 24560.0\n",
      "EURO EUR 25009.66 25262.28 26382.69\n",
      "YUAN RENMINBI CNY 3271.8 3304.85 3411.61\n"
     ]
    }
   ],
   "source": [
    "for row in df.iterrows():\n",
    "    print(row[1]['Name'], row[1]['Symbol'], row[1]['Buy Cash'], row[1]['Buy Transfer'], row[1]['Sell'])"
   ]
  }
 ],
 "metadata": {
  "kernelspec": {
   "display_name": ".venv",
   "language": "python",
   "name": "python3"
  },
  "language_info": {
   "codemirror_mode": {
    "name": "ipython",
    "version": 3
   },
   "file_extension": ".py",
   "mimetype": "text/x-python",
   "name": "python",
   "nbconvert_exporter": "python",
   "pygments_lexer": "ipython3",
   "version": "3.11.5"
  }
 },
 "nbformat": 4,
 "nbformat_minor": 2
}
